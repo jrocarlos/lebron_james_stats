{
 "cells": [
  {
   "cell_type": "code",
   "execution_count": null,
   "metadata": {},
   "outputs": [],
   "source": [
    "# Imports\n",
    "import pandas as pd\n",
    "import numpy as np\n",
    "\n",
    "from nba_api.stats.static import players\n",
    "from nba_api.stats.static import teams \n",
    "\n",
    "import matplotlib.pyplot as plt\n",
    "import seaborn as sns\n",
    "import mplcyberpunk\n",
    "\n",
    "pd.set_option('display.max_columns',250)"
   ]
  },
  {
   "cell_type": "code",
   "execution_count": null,
   "metadata": {},
   "outputs": [],
   "source": [
    "# Creating a DataFrame with all NBA players\n",
    "player_dict = players.get_players()\n",
    "players = pd.DataFrame(player_dict)\n",
    "print(\"Total of players:\",players.shape[0])\n",
    "players.head()"
   ]
  },
  {
   "cell_type": "code",
   "execution_count": null,
   "metadata": {},
   "outputs": [],
   "source": [
    "# Finding LeBron James\n",
    "lebronId = players.id[players.full_name == 'LeBron James'].to_list()[0]\n",
    "display(players[players.full_name == 'LeBron James'])"
   ]
  },
  {
   "cell_type": "code",
   "execution_count": null,
   "metadata": {},
   "outputs": [],
   "source": [
    "# Finding LeBron James\n",
    "mjid = players.id[players.full_name == 'Michael Jordan'].to_list()[0]\n",
    "display(players[players.full_name == 'Michael Jordan'])"
   ]
  },
  {
   "cell_type": "code",
   "execution_count": null,
   "metadata": {},
   "outputs": [],
   "source": [
    "# Fetching All LeBron Stats\n",
    "from nba_api.stats.endpoints import playercareerstats\n",
    "lebronCareer = playercareerstats.PlayerCareerStats(player_id = lebronId)\n",
    "lebronCareer = lebronCareer.get_data_frames()[0]\n",
    "lebronCareer"
   ]
  },
  {
   "cell_type": "code",
   "execution_count": null,
   "metadata": {},
   "outputs": [],
   "source": [
    "# Fetching All LeBron Stats\n",
    "from nba_api.stats.endpoints import playercareerstats\n",
    "mjcareer = playercareerstats.PlayerCareerStats(player_id = mjid)\n",
    "mjcareer = mjcareer.get_data_frames()[0]\n",
    "mjcareer"
   ]
  },
  {
   "cell_type": "code",
   "execution_count": null,
   "metadata": {},
   "outputs": [],
   "source": [
    "#Creating a column with a cumulative sum on PTS\n",
    "lebronCareer['SUM_PTS'] = lebronCareer['PTS'].cumsum()"
   ]
  },
  {
   "cell_type": "code",
   "execution_count": null,
   "metadata": {},
   "outputs": [],
   "source": [
    "#Creating a column with a cumulative sum on PTS\n",
    "mjcareer['SUM_PTS'] = mjcareer['PTS'].cumsum()"
   ]
  },
  {
   "cell_type": "code",
   "execution_count": null,
   "metadata": {},
   "outputs": [],
   "source": [
    "lebronCareer.tail()"
   ]
  },
  {
   "cell_type": "code",
   "execution_count": null,
   "metadata": {},
   "outputs": [],
   "source": [
    "mjcareer.tail()"
   ]
  },
  {
   "cell_type": "code",
   "execution_count": null,
   "metadata": {},
   "outputs": [],
   "source": [
    "print(\"Total Scores of LeBron until today:\",lebronCareer.SUM_PTS.max())\n",
    "print(\"Total Scores of Jordan until today:\",mjcareer.SUM_PTS.max())"
   ]
  },
  {
   "cell_type": "code",
   "execution_count": null,
   "metadata": {},
   "outputs": [],
   "source": [
    "sns.set_style(\"whitegrid\")\n",
    "plt.figure(figsize=(20,4))\n",
    "c = sns.barplot(data = lebronCareer, x='SEASON_ID',y='SUM_PTS')\n",
    "plt.xlabel('Season')\n",
    "plt.ylabel('Points')\n",
    "plt.title('LeBron James Scoring Stats Over Time')\n",
    "plt.show(c)\n",
    "\n",
    "sns.set_style(\"whitegrid\")\n",
    "plt.figure(figsize=(20,4))\n",
    "c = sns.barplot(data = mjcareer, x='SEASON_ID',y='SUM_PTS')\n",
    "plt.xlabel('Season')\n",
    "plt.ylabel('Points')\n",
    "plt.title('Michael Jordan Scoring Stats Over Time')\n",
    "plt.show(c)"
   ]
  },
  {
   "cell_type": "code",
   "execution_count": null,
   "metadata": {},
   "outputs": [],
   "source": [
    "lebronCareer_teams = lebronCareer.groupby('TEAM_ABBREVIATION')[['SUM_PTS']].sum()\n",
    "lebronCareer_teams['TEAM'] = lebronCareer_teams.index\n",
    "lebronCareer_teams = lebronCareer_teams.sort_values(['SUM_PTS'], ascending=True)"
   ]
  },
  {
   "cell_type": "code",
   "execution_count": null,
   "metadata": {},
   "outputs": [],
   "source": [
    "mjcareer_teams = mjcareer.groupby('TEAM_ABBREVIATION')[['SUM_PTS']].sum()\n",
    "mjcareer_teams['TEAM'] = mjcareer_teams.index\n",
    "mjcareer_teams = mjcareer_teams.sort_values(['SUM_PTS'], ascending=True)"
   ]
  },
  {
   "cell_type": "code",
   "execution_count": null,
   "metadata": {},
   "outputs": [],
   "source": [
    "\n",
    "plt.style.use(\"cyberpunk\")\n",
    "x = lebronCareer_teams['TEAM']\n",
    "y = lebronCareer_teams['SUM_PTS']\n",
    "plt.bar(x,y)\n",
    "plt.xlabel('Team', fontweight=\"bold\")\n",
    "plt.ylabel('Points', fontweight=\"bold\")\n",
    "plt.title('LeBron James Scoring Stats by Teams', fontweight=\"bold\")\n",
    "plt.show()"
   ]
  },
  {
   "cell_type": "code",
   "execution_count": null,
   "metadata": {},
   "outputs": [],
   "source": [
    "plt.style.use(\"cyberpunk\")\n",
    "x = mjcareer_teams['TEAM']\n",
    "y = mjcareer_teams['SUM_PTS']\n",
    "plt.bar(x,y)\n",
    "plt.xlabel('Team', fontweight=\"bold\")\n",
    "plt.ylabel('Points', fontweight=\"bold\")\n",
    "plt.title('LeBron James Scoring Stats by Teams', fontweight=\"bold\")\n",
    "plt.show()"
   ]
  },
  {
   "cell_type": "code",
   "execution_count": null,
   "metadata": {},
   "outputs": [],
   "source": [
    "lebron_stats = lebronCareer.drop(columns=['TEAM_ID','LEAGUE_ID','PLAYER_ID','GS'])\n",
    "lebron_stats"
   ]
  }
 ],
 "metadata": {
  "kernelspec": {
   "display_name": "Python 3",
   "language": "python",
   "name": "python3"
  },
  "language_info": {
   "codemirror_mode": {
    "name": "ipython",
    "version": 3
   },
   "file_extension": ".py",
   "mimetype": "text/x-python",
   "name": "python",
   "nbconvert_exporter": "python",
   "pygments_lexer": "ipython3",
   "version": "3.9.2"
  },
  "orig_nbformat": 4,
  "vscode": {
   "interpreter": {
    "hash": "11938c6bc6919ae2720b4d5011047913343b08a43b18698fd82dedb0d4417594"
   }
  }
 },
 "nbformat": 4,
 "nbformat_minor": 2
}
